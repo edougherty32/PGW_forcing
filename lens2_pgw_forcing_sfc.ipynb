{
 "cells": [
  {
   "cell_type": "markdown",
   "id": "a248bfd7-011f-44ca-b0b0-b0466216ee5a",
   "metadata": {},
   "source": [
    "### Script for adding CESM-LENS2 perturbation for surface fields to ERA5 data\n",
    "### date created: 28 May 2025\n",
    "### author: Erin Dougherty (doughert@ucar.edu) "
   ]
  },
  {
   "cell_type": "code",
   "execution_count": 1,
   "id": "6891cc04-e66d-48ec-a5bb-a8969f2ad990",
   "metadata": {},
   "outputs": [],
   "source": [
    "import math\n",
    "import numpy as np\n",
    "import pandas as pd\n",
    "import matplotlib as plt\n",
    "import cartopy.crs as ccrs\n",
    "import cartopy.feature as cfeature\n",
    "# import netCDF4 as nc\n",
    "# from netCDF4 import Dataset, num2date\n",
    "#from datetime import datetime, date, timedelta\n",
    "import glob\n",
    "import xarray as xr"
   ]
  },
  {
   "cell_type": "markdown",
   "id": "77b7cf8b-680e-4497-9c6a-806d44429761",
   "metadata": {},
   "source": [
    "#### set path to output directory-change this!"
   ]
  },
  {
   "cell_type": "code",
   "execution_count": 2,
   "id": "7492b094-e17f-47dc-9dda-581895cf7b07",
   "metadata": {},
   "outputs": [],
   "source": [
    "outdir = '/glade/derecho/scratch/doughert/SOARS/'"
   ]
  },
  {
   "cell_type": "markdown",
   "id": "3bea891e-b06d-479a-9bfe-93bd0abf2666",
   "metadata": {},
   "source": [
    "#### set bounds to apply PGW forcing–generally the outer edges of regional domain"
   ]
  },
  {
   "cell_type": "code",
   "execution_count": 3,
   "id": "944e9cd7-ac96-487c-b56c-7d97f8e41e39",
   "metadata": {},
   "outputs": [],
   "source": [
    "llat = -20\n",
    "ulat = 61\n",
    "llon = -145\n",
    "rlon = -15"
   ]
  },
  {
   "cell_type": "markdown",
   "id": "d4399eca-b046-4903-995f-8855ff438c83",
   "metadata": {},
   "source": [
    "#### define 30-year time slices for historical and future period (change month depending on event of interest)"
   ]
  },
  {
   "cell_type": "code",
   "execution_count": 4,
   "id": "56c24028-2d8e-4fe7-920f-342d0acd461b",
   "metadata": {},
   "outputs": [],
   "source": [
    "def is_hist(year, month): \n",
    "    return (year >= 1991) & (year <= 2021) & (month ==9)\n",
    "\n",
    "def is_future(year, month):\n",
    "    return (year >= 2070) & (year <= 2100) & (month ==9)"
   ]
  },
  {
   "cell_type": "markdown",
   "id": "46af3d1f-861d-4f0d-af55-1ad52d8a02b9",
   "metadata": {},
   "source": [
    "### DON'T CHANGE BELOW HERE\n",
    "#### surface CESM variables"
   ]
  },
  {
   "cell_type": "code",
   "execution_count": 5,
   "id": "3c84a0ee-3882-449b-89ff-b41ee4ba3095",
   "metadata": {},
   "outputs": [],
   "source": [
    "cesm_dir= '/glade/campaign/cgd/cesm/CESM2-LE/timeseries/atm/proc/tseries/month_1/'\n",
    "cesm_land= '/glade/campaign/cgd/cesm/CESM2-LE/timeseries/lnd/proc/tseries/month_1/'\n",
    "\n",
    "### 2D variables\n",
    "cesm_dir_sst = cesm_dir+'SST/'\n",
    "cesm_dir_ts = cesm_dir+'TS/'\n",
    "cesm_dir_tsoil = cesm_land+'TSOI/'\n",
    "cesm_dir_ps = cesm_dir+'PS/'\n",
    "cesm_dir_psl = cesm_dir+'PSL/'\n",
    "cesm_dir_phi = cesm_dir+'PHIS/'\n",
    "cesm_dir_ice = cesm_dir+'ICEFRAC/'\n",
    "cesm_dir_snow = cesm_dir+'SNOWHLND/'"
   ]
  },
  {
   "cell_type": "code",
   "execution_count": 6,
   "id": "d0e1c938-93ce-43c6-a056-82d96f1c07df",
   "metadata": {},
   "outputs": [],
   "source": [
    "hist_dates = ['199001', '200001', '201001', '201501']\n",
    "future_dates = ['206501', '207501', '208501', '209501']"
   ]
  },
  {
   "cell_type": "markdown",
   "id": "8a73ddac-d86d-47cb-8eda-463d9ee93021",
   "metadata": {},
   "source": [
    "#### definitions for opening CESM variables over defined time/spatial boundaries"
   ]
  },
  {
   "cell_type": "code",
   "execution_count": 7,
   "id": "fa39bc7f-db08-4dc8-9b50-25935e4737bb",
   "metadata": {},
   "outputs": [],
   "source": [
    "def cesm_hist(var_dir, varname):\n",
    "    hist_var = []\n",
    "\n",
    "    for dir in glob.glob(var_dir+'b.e21.*'):\n",
    "        for c, item in enumerate(hist_dates): \n",
    "            for name in glob.glob(dir):\n",
    "                if item in name:\n",
    "                    file = xr.open_mfdataset(name)[varname]\n",
    "                    #change longitude from 0-360, to -180 to 180\n",
    "                    file['_longitude_adjusted'] = xr.where(file['lon'] > 180, file['lon']-360, file['lon'])\n",
    "                    file = (file.swap_dims({'lon': '_longitude_adjusted'}).sel(**{'_longitude_adjusted': sorted(file._longitude_adjusted)}).drop('lon'))\n",
    "                    file = file.rename({'_longitude_adjusted': 'lon'})\n",
    "                    # sub select \n",
    "                    file_sub = file.sel(time=is_hist(file['time.year'], file['time.month']), lat=slice(llat, ulat), lon=slice(llon, rlon))\n",
    "                    hist_var.append(file_sub)\n",
    "\n",
    "    return(hist_var)"
   ]
  },
  {
   "cell_type": "code",
   "execution_count": 8,
   "id": "e918e516-362a-417c-aa5e-a333c0f10b46",
   "metadata": {},
   "outputs": [],
   "source": [
    "def cesm_future(var_dir, varname):\n",
    "    future_var = []\n",
    "\n",
    "    for dir in glob.glob(var_dir+'b.e21.*'):\n",
    "        for c, item in enumerate(future_dates): \n",
    "            for name in glob.glob(dir):\n",
    "                if item in name:\n",
    "                    file = xr.open_mfdataset(name)[varname]\n",
    "                    #change longitude from 0-360, to -180 to 180\n",
    "                    file['_longitude_adjusted'] = xr.where(file['lon'] > 180, file['lon']-360, file['lon'])\n",
    "                    file = (file.swap_dims({'lon': '_longitude_adjusted'}).sel(**{'_longitude_adjusted': sorted(file._longitude_adjusted)}).drop('lon'))\n",
    "                    file = file.rename({'_longitude_adjusted': 'lon'})\n",
    "                    # sub select \n",
    "                    file_sub = file.sel(time=is_future(file['time.year'], file['time.month']), lat=slice(llat, ulat), lon=slice(llon, rlon))\n",
    "                    future_var.append(file_sub)\n",
    "\n",
    "    return(future_var)"
   ]
  },
  {
   "cell_type": "markdown",
   "id": "e0622763-dfa0-451e-a576-75da0b8a433d",
   "metadata": {},
   "source": [
    "### open historical and future CESM data"
   ]
  },
  {
   "cell_type": "code",
   "execution_count": 9,
   "id": "9dbc2aa8-bbb4-4eda-bd22-06374f381917",
   "metadata": {},
   "outputs": [
    {
     "name": "stdout",
     "output_type": "stream",
     "text": [
      "CPU times: user 4min 56s, sys: 7.59 s, total: 5min 3s\n",
      "Wall time: 8min 32s\n"
     ]
    }
   ],
   "source": [
    "%%time\n",
    "hist_sst = cesm_hist(cesm_dir_sst, 'SST')\n",
    "hist_ts = cesm_hist(cesm_dir_ts, 'TS')\n",
    "hist_tsoil = cesm_hist(cesm_dir_tsoil, 'TSOI')\n",
    "hist_ps = cesm_hist(cesm_dir_ps, 'PS')\n",
    "hist_psl = cesm_hist(cesm_dir_psl, 'PSL')\n",
    "hist_phi = cesm_hist(cesm_dir_phi, 'PHIS')\n",
    "hist_ice = cesm_hist(cesm_dir_ice, 'ICEFRAC')\n",
    "hist_snow = cesm_hist(cesm_dir_snow, 'SNOWHLND')"
   ]
  },
  {
   "cell_type": "code",
   "execution_count": 10,
   "id": "881c52fa-e4c0-437d-9f78-22a79e6d4b2b",
   "metadata": {},
   "outputs": [
    {
     "name": "stdout",
     "output_type": "stream",
     "text": [
      "CPU times: user 5min 1s, sys: 7.27 s, total: 5min 8s\n",
      "Wall time: 8min 18s\n"
     ]
    }
   ],
   "source": [
    "%%time\n",
    "future_sst = cesm_future(cesm_dir_sst, 'SST')\n",
    "future_ts = cesm_future(cesm_dir_ts, 'TS')\n",
    "future_tsoil = cesm_future(cesm_dir_tsoil, 'TSOI')\n",
    "future_ps = cesm_future(cesm_dir_ps, 'PS')\n",
    "future_psl = cesm_future(cesm_dir_psl, 'PSL')\n",
    "future_phi = cesm_future(cesm_dir_phi, 'PHIS')\n",
    "future_ice = cesm_future(cesm_dir_ice, 'ICEFRAC')\n",
    "future_snow = cesm_future(cesm_dir_snow, 'SNOWHLND')"
   ]
  },
  {
   "cell_type": "markdown",
   "id": "d3bb2f89-3047-4418-a212-573b7f2b637e",
   "metadata": {},
   "source": [
    "### set-up job clusters to run in order to get more memory\n",
    "#### change project key and resources depending on what you need"
   ]
  },
  {
   "cell_type": "code",
   "execution_count": 11,
   "id": "2694c3e2-6185-4c7a-aeb6-4c38843d7602",
   "metadata": {},
   "outputs": [
    {
     "name": "stderr",
     "output_type": "stream",
     "text": [
      "/glade/u/home/doughert/miniconda3/envs/pangeo3/lib/python3.9/site-packages/distributed/node.py:151: UserWarning: Port 8787 is already in use.\n",
      "Perhaps you already have a cluster running?\n",
      "Hosting the HTTP server on port 42183 instead\n",
      "  warnings.warn(\n"
     ]
    }
   ],
   "source": [
    "import dask \n",
    "\n",
    "from dask_jobqueue import PBSCluster\n",
    "\n",
    "cluster = PBSCluster(cores=10,\n",
    "                     memory=\"100GB\",\n",
    "                     project='P48500028',\n",
    "                     queue='casper',\n",
    "                     resource_spec='select=1:ncpus=10:mem=250GB',\n",
    "                     walltime='01:00:00')\n",
    "\n",
    "cluster.scale(jobs=15)\n",
    "\n",
    "\n",
    "from dask.distributed import Client\n",
    "client = Client(cluster)"
   ]
  },
  {
   "cell_type": "code",
   "execution_count": 12,
   "id": "2da35c85-cc53-46de-a470-28671d631616",
   "metadata": {},
   "outputs": [
    {
     "data": {
      "text/html": [
       "<table style=\"border: 2px solid white;\">\n",
       "<tr>\n",
       "<td style=\"vertical-align: top; border: 0px solid white\">\n",
       "<h3 style=\"text-align: left;\">Client</h3>\n",
       "<ul style=\"text-align: left; list-style: none; margin: 0; padding: 0;\">\n",
       "  <li><b>Scheduler: </b>tcp://128.117.208.198:44793</li>\n",
       "  <li><b>Dashboard: </b><a href='https://jupyterhub.hpc.ucar.edu/stable/user/doughert/proxy/42183/status' target='_blank'>https://jupyterhub.hpc.ucar.edu/stable/user/doughert/proxy/42183/status</a></li>\n",
       "</ul>\n",
       "</td>\n",
       "<td style=\"vertical-align: top; border: 0px solid white\">\n",
       "<h3 style=\"text-align: left;\">Cluster</h3>\n",
       "<ul style=\"text-align: left; list-style:none; margin: 0; padding: 0;\">\n",
       "  <li><b>Workers: </b>0</li>\n",
       "  <li><b>Cores: </b>0</li>\n",
       "  <li><b>Memory: </b>0 B</li>\n",
       "</ul>\n",
       "</td>\n",
       "</tr>\n",
       "</table>"
      ],
      "text/plain": [
       "<Client: 'tcp://128.117.208.198:44793' processes=0 threads=0, memory=0 B>"
      ]
     },
     "execution_count": 12,
     "metadata": {},
     "output_type": "execute_result"
    }
   ],
   "source": [
    "client"
   ]
  },
  {
   "cell_type": "markdown",
   "id": "6bdfccd3-67cd-46a8-830e-659817a0e856",
   "metadata": {},
   "source": [
    "### concat all members/time and take 30-year mean over all members"
   ]
  },
  {
   "cell_type": "code",
   "execution_count": 25,
   "id": "792f0a51-9711-4bc3-a044-9b09f61063b5",
   "metadata": {},
   "outputs": [
    {
     "name": "stdout",
     "output_type": "stream",
     "text": [
      "CPU times: user 30.8 s, sys: 12.1 s, total: 42.9 s\n",
      "Wall time: 1min 9s\n"
     ]
    }
   ],
   "source": [
    "%%time\n",
    "hist_sst_all = xr.concat(hist_sst, dim='member_time').compute()\n",
    "hist_sst_mean = hist_sst_all.mean(dim=['member_time', 'time'])\n",
    "\n",
    "hist_ts_all = xr.concat(hist_ts, dim='member_time').compute()\n",
    "hist_ts_mean = hist_ts_all.mean(dim=['member_time', 'time'])\n",
    "\n",
    "hist_tsoil_all = xr.concat(hist_tsoil, dim='member_time').compute()\n",
    "hist_tsoil_mean = hist_tsoil_all.mean(dim=['member_time', 'time'])\n",
    "\n",
    "hist_ps_all = xr.concat(hist_ps, dim='member_time').compute()\n",
    "hist_ps_mean = hist_ps_all.mean(dim=['member_time', 'time'])\n",
    "\n",
    "hist_psl_all = xr.concat(hist_psl, dim='member_time').compute()\n",
    "hist_psl_mean = hist_psl_all.mean(dim=['member_time', 'time'])\n",
    "\n",
    "hist_phi_all = xr.concat(hist_phi, dim='member_time').compute()\n",
    "hist_phi_mean = hist_phi_all.mean(dim=['member_time', 'time'])\n",
    "\n",
    "hist_ice_all = xr.concat(hist_ice, dim='member_time').compute()\n",
    "hist_ice_mean = hist_ice_all.mean(dim=['member_time', 'time'])\n",
    "\n",
    "hist_snow_all = xr.concat(hist_snow, dim='member_time').compute()\n",
    "hist_snow_mean = hist_snow_all.mean(dim=['member_time', 'time'])"
   ]
  },
  {
   "cell_type": "code",
   "execution_count": 26,
   "id": "885aaec4-b613-4beb-81dd-cc348e37502d",
   "metadata": {},
   "outputs": [
    {
     "name": "stdout",
     "output_type": "stream",
     "text": [
      "CPU times: user 31.3 s, sys: 12.1 s, total: 43.4 s\n",
      "Wall time: 1min 8s\n"
     ]
    }
   ],
   "source": [
    "%%time\n",
    "future_sst_all = xr.concat(future_sst, dim='member_time').compute()\n",
    "future_sst_mean = future_sst_all.mean(dim=['member_time', 'time'])\n",
    "\n",
    "future_ts_all = xr.concat(future_ts, dim='member_time').compute()\n",
    "future_ts_mean = future_ts_all.mean(dim=['member_time', 'time'])\n",
    "\n",
    "future_tsoil_all = xr.concat(future_tsoil, dim='member_time').compute()\n",
    "future_tsoil_mean = future_tsoil_all.mean(dim=['member_time', 'time'])\n",
    "\n",
    "future_ps_all = xr.concat(future_ps, dim='member_time').compute()\n",
    "future_ps_mean = future_ps_all.mean(dim=['member_time', 'time'])\n",
    "\n",
    "future_psl_all = xr.concat(future_psl, dim='member_time').compute()\n",
    "future_psl_mean = future_psl_all.mean(dim=['member_time', 'time'])\n",
    "\n",
    "future_phi_all = xr.concat(future_phi, dim='member_time').compute()\n",
    "future_phi_mean = future_phi_all.mean(dim=['member_time', 'time'])\n",
    "\n",
    "future_ice_all = xr.concat(future_ice, dim='member_time').compute()\n",
    "future_ice_mean = future_ice_all.mean(dim=['member_time', 'time'])\n",
    "\n",
    "future_snow_all = xr.concat(future_snow, dim='member_time').compute()\n",
    "future_snow_mean = future_snow_all.mean(dim=['member_time', 'time'])"
   ]
  },
  {
   "cell_type": "markdown",
   "id": "207749a6-9729-4721-94c9-6bce9e959f76",
   "metadata": {},
   "source": [
    "### take future - historical ensemble mean difference"
   ]
  },
  {
   "cell_type": "code",
   "execution_count": 27,
   "id": "c61283a9-3de8-4a71-b4e4-15e2640be917",
   "metadata": {},
   "outputs": [],
   "source": [
    "delta_sst_mean = future_sst_mean - hist_sst_mean\n",
    "delta_ts_mean = future_ts_mean - hist_ts_mean\n",
    "delta_tsoil_mean = future_tsoil_mean - hist_tsoil_mean\n",
    "delta_ps_mean = future_ps_mean - hist_ps_mean\n",
    "delta_psl_mean = future_psl_mean - hist_psl_mean\n",
    "delta_phi_mean = future_phi_mean - hist_phi_mean\n",
    "delta_ice_mean = future_ice_mean - hist_ice_mean\n",
    "delta_snow_mean = future_snow_mean - hist_snow_mean"
   ]
  },
  {
   "cell_type": "markdown",
   "id": "3c782ab2-3846-4d93-871f-c8f4c2955a62",
   "metadata": {},
   "source": [
    "### export files to your output directory"
   ]
  },
  {
   "cell_type": "code",
   "execution_count": 29,
   "id": "4f6dcaa5-3c54-44a7-a88c-5b3dfd9e0e37",
   "metadata": {},
   "outputs": [],
   "source": [
    "delta_sst_mean.to_netcdf(outdir+'LENS2-Sept_2070-2100_1991-2021_delta_SST.nc', compute=True)\n",
    "delta_ts_mean.to_netcdf(outdir+'LENS2-Sept_2070-2100_1991-2021_delta_TS.nc', compute=True)\n",
    "delta_tsoil_mean.to_netcdf(outdir+'LENS2-Sept_2070-2100_1991-2021_delta_TSOI.nc', compute=True)\n",
    "delta_ps_mean.to_netcdf(outdir+'LENS2-Sept_2070-2100_1991-2021_delta_PS.nc', compute=True)\n",
    "delta_psl_mean.to_netcdf(outdir+'LENS2-Sept_2070-2100_1991-2021_delta_PSL.nc', compute=True)\n",
    "delta_phi_mean.to_netcdf(outdir+'LENS2-Sept_2070-2100_1991-2021_delta_phi.nc', compute=True)\n",
    "delta_ice_mean.to_netcdf(outdir+'LENS2-Sept_2070-2100_1991-2021_delta_ICEFRAC.nc', compute=True)\n",
    "delta_snow_mean.to_netcdf(outdir+'LENS2-Sept_2070-2100_1991-2021_delta_SNOWHLND.nc', compute=True)"
   ]
  },
  {
   "cell_type": "code",
   "execution_count": null,
   "id": "cecbc29a-814f-49a5-b5ef-69c4c0e95a6c",
   "metadata": {},
   "outputs": [],
   "source": []
  }
 ],
 "metadata": {
  "kernelspec": {
   "display_name": "Python [conda env:miniconda3-pangeo3]",
   "language": "python",
   "name": "conda-env-miniconda3-pangeo3-py"
  },
  "language_info": {
   "codemirror_mode": {
    "name": "ipython",
    "version": 3
   },
   "file_extension": ".py",
   "mimetype": "text/x-python",
   "name": "python",
   "nbconvert_exporter": "python",
   "pygments_lexer": "ipython3",
   "version": "3.9.2"
  }
 },
 "nbformat": 4,
 "nbformat_minor": 5
}
