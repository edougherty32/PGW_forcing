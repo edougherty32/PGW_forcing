{
 "cells": [
  {
   "cell_type": "markdown",
   "id": "8fe216fa-89a8-43f9-a860-de07675def49",
   "metadata": {},
   "source": [
    "### Script for adding CESM-LENS perturbation to ERA5 2D files (streamlined)\n",
    "### date created: 13 May 2025\n",
    "### author: doughert@ucar.edu"
   ]
  },
  {
   "cell_type": "code",
   "execution_count": 1,
   "id": "495a1ff9-6aea-4d26-bb88-139410210a2b",
   "metadata": {},
   "outputs": [],
   "source": [
    "import math\n",
    "import numpy as np\n",
    "import pandas as pd\n",
    "import matplotlib as plt\n",
    "import cartopy.crs as ccrs\n",
    "import cartopy.feature as cfeature\n",
    "# import netCDF4 as nc\n",
    "# from netCDF4 import Dataset, num2date\n",
    "#from datetime import datetime, date, timedelta\n",
    "import glob\n",
    "import xarray as xr"
   ]
  },
  {
   "cell_type": "markdown",
   "id": "8d00d44f-c25f-4adc-befd-692913ad84d0",
   "metadata": {},
   "source": [
    "### change the year, month, and days from ERA5 files to look at, as well export path"
   ]
  },
  {
   "cell_type": "code",
   "execution_count": 2,
   "id": "a6153d85-d1a3-4479-ac49-3d203e53942f",
   "metadata": {},
   "outputs": [],
   "source": [
    "yr_mo = '200609'\n",
    "days = ['05', '06', '07','08', '09', '10', '11', '12', '13']\n",
    "#days = ['08', '09', '10', '11', '12', '13']\n",
    "export_dir = '/'"
   ]
  },
  {
   "cell_type": "markdown",
   "id": "4d879c85-9677-4fab-9ae2-9baf9eeea9cf",
   "metadata": {},
   "source": [
    "#### list variable names from perturbed LENS2 output - DON'T CHANGE BELOW HERE"
   ]
  },
  {
   "cell_type": "code",
   "execution_count": 31,
   "id": "13d52e8b-df88-4bc1-b1b1-610acfb6f4d6",
   "metadata": {},
   "outputs": [],
   "source": [
    "var_list = ['SST', 'TS',  'PS', 'PSL', 'ICEFRAC', 'SNOWHLND']"
   ]
  },
  {
   "cell_type": "markdown",
   "id": "aa40e69d-8df9-43f4-a4cb-532d2e4d11fb",
   "metadata": {},
   "source": [
    "#### list ERA5 variables that will be perturbed"
   ]
  },
  {
   "cell_type": "code",
   "execution_count": 32,
   "id": "cd19c8b2-ab93-485a-a95d-20fefe3c5a86",
   "metadata": {},
   "outputs": [],
   "source": [
    "era5_sfc = '/glade/campaign/collections/rda/data/ds633.0/e5.oper.an.sfc/'\n",
    "var_era = ['128_034_sstk.ll025sc', '128_235_skt.ll025sc','128_134_sp.ll025sc', '128_151_msl.ll025sc', '128_031_ci.ll025sc', '128_141_sd.ll025sc']\n",
    "era5_name = ['SSTK', 'SKT', 'SP', 'MSL', 'CI', 'SD']\n",
    "param_ids = [\"34.128\", \"235.128\", \"134.128\", \"151.128\", \"31.128\", \"141.128\"]"
   ]
  },
  {
   "cell_type": "markdown",
   "id": "0bf70bb5-57c4-4816-9cd2-dd663fc5ee64",
   "metadata": {},
   "source": [
    "### definitions- 1st one to replace ERA5 files with perturbed value, second to format the output based on what MPAS expects"
   ]
  },
  {
   "cell_type": "code",
   "execution_count": 33,
   "id": "544ecdad-3dd2-4249-a63a-836d92c7fbda",
   "metadata": {},
   "outputs": [],
   "source": [
    "def replace_era5_var(orig_era5, var, ptb_era5):\n",
    "    era5_rp = orig_era5.assign({var:ptb_era5})     \n",
    "    \n",
    "    return(era5_rp)"
   ]
  },
  {
   "cell_type": "code",
   "execution_count": 34,
   "id": "420c03f3-899e-4cb3-9d7a-9876fe9e83d4",
   "metadata": {},
   "outputs": [],
   "source": [
    "def fmt_files(var, pid, zaxis_file):\n",
    "    from cdo import Cdo\n",
    "    cdo = Cdo(cdo='/glade/u/home/doughert/miniconda3/envs/pangeo3/bin/cdo')\n",
    "    ### change missing value to nan\n",
    "    substr = '2006093023'\n",
    "    add_str = 'nan'\n",
    "\n",
    "    for file in sorted(glob.glob(export_dir+'era5.sfc.'+var+'.*.nc')):\n",
    "        stridx = file.index(substr)\n",
    "        # insert nan after date for file output name\n",
    "        newfname = str(file[:stridx+10]) + add_str + str(file[stridx+10:])\n",
    "        print(newfname)\n",
    "        cdo.setmissval(\"nan\", input=file, output=newfname)\n",
    "\n",
    "    substr = 'nan'\n",
    "    add_str2 = 'miss'\n",
    "\n",
    "    ## change missing value to -999\n",
    "    for file in sorted(glob.glob(export_dir+'era5.sfc.'+var+'.*nan.nc')):\n",
    "        stridx = file.index(substr)\n",
    "        newfname = str(file[:stridx]) + add_str2 + str(file[stridx+3:])\n",
    "        print(newfname)\n",
    "        cdo.setmissval(\"-999.9\", input=file, output=newfname)\n",
    "\n",
    "    ## select first variable\n",
    "    substr = 'miss'\n",
    "    add_str3 = 'var1'\n",
    "    \n",
    "    for file in sorted(glob.glob(export_dir+'era5.sfc.'+var+'.*miss.nc')):\n",
    "        stridx = file.index(substr)\n",
    "        newfname = str(file[:stridx]) + add_str3 + str(file[stridx+4:]) \n",
    "        newfname = newfname[:-2]+'grb'\n",
    "        print(newfname)\n",
    "        cdo.selparam(\"-1\", input=file, output=newfname, options='-f grb')\n",
    "        \n",
    "    ## change parameter id code \n",
    "    substr = 'var1'\n",
    "    add_str3 = 'pid'\n",
    "\n",
    "    for file in sorted(glob.glob(export_dir+'era5.sfc.'+var+'*var1.grb')):\n",
    "        stridx = file.index(substr)\n",
    "        newfname = str(file[:stridx]) + add_str3 + str(file[stridx+4:]) \n",
    "        print(newfname)\n",
    "        cdo.setparam(pid, input=file, output=newfname, )\n",
    "        \n",
    "    ## change soil axis for soil variables only    \n",
    "    if var.startswith('STL'):\n",
    "        substr = 'pid'\n",
    "        add_str3 = 'zaxis1'\n",
    "\n",
    "        for file in sorted(glob.glob(export_dir+'era5.sfc.'+var+'*pid.grb')):\n",
    "            stridx = file.index(substr)\n",
    "            newfname = str(file[:stridx]) + add_str3 + str(file[stridx+3:]) \n",
    "            print(newfname)\n",
    "            cdo.setzaxis(export_dir+zaxis_file, input=file, output=newfname)\n",
    "                "
   ]
  },
  {
   "cell_type": "markdown",
   "id": "784b2766-eaa6-4f91-b8a8-e9b75cd3558c",
   "metadata": {},
   "source": [
    "### this routine opens delta from LENS2, opens ERA5 for same variable, interpolates ERA5 and CESM to match\n",
    "### then adds delta to ERA5, and export file with perturbed variables"
   ]
  },
  {
   "cell_type": "code",
   "execution_count": 36,
   "id": "9fd2c6f7-ed18-4dd0-9fdf-b9fc4c2e534e",
   "metadata": {},
   "outputs": [
    {
     "name": "stdout",
     "output_type": "stream",
     "text": [
      "/glade/derecho/scratch/doughert/ERA5_perturb/200609/2d/test/era5.sfc.SSTK.2006090100_2006093023nan.nc\n",
      "/glade/derecho/scratch/doughert/ERA5_perturb/200609/2d/test/era5.sfc.SSTK.2006090100_2006093023miss.nc\n",
      "/glade/derecho/scratch/doughert/ERA5_perturb/200609/2d/test/era5.sfc.SSTK.2006090100_2006093023var1.grb\n",
      "/glade/derecho/scratch/doughert/ERA5_perturb/200609/2d/test/era5.sfc.SSTK.2006090100_2006093023pid.grb\n"
     ]
    }
   ],
   "source": [
    "import pyresample\n",
    "\n",
    "for i in range(len(var_list)):\n",
    "    # open deltas\n",
    "    delta_var = xr.open_dataset('/glade/derecho/scratch/doughert/CESM/LENS2/LENS2-Sept_2070-2100_1991-2021_delta_'+var_list[i]+'.nc')[var_list[i]]\n",
    "    cesm_lat = delta_var.lat\n",
    "    cesm_lon = delta_var.lon\n",
    "    \n",
    "    # open era5 data for same variable\n",
    "    era5_var_days = xr.open_dataset(era5_sfc+yr_mo+'/e5.oper.an.sfc.'+var_era[i]+'.'+'2006090100_2006093023.nc')\n",
    "    era5_lat = era5_var_days.latitude\n",
    "    era5_lon = era5_var_days.longitude\n",
    "    era5_lon2d, era5_lat2d  = np.meshgrid(era5_lon.values, era5_lat.values)\n",
    "    \n",
    "    # horizontally reproject data\n",
    "    cesm_lon2d, cesm_lat2d = np.meshgrid(cesm_lon.values, cesm_lat.values)\n",
    "    # change CESM lons to be from -180 to 180 instead of 0 to 360\n",
    "    cesm_lon2d_new = pyresample.utils.check_and_wrap(cesm_lon2d, cesm_lat2d)[0]\n",
    "    # create presample object of the CESM data\n",
    "    orig_def = pyresample.geometry.SwathDefinition(cesm_lon2d_new, cesm_lat2d)\n",
    "    # change ERA-5 lons to be from -180 to 180 instead of 0 to 360\n",
    "    era5_lon2d_new = pyresample.utils.check_and_wrap(era5_lon2d, era5_lat2d)[0]\n",
    "    # presample object of ERA-5 data\n",
    "    targ_def = pyresample.geometry.SwathDefinition(era5_lon2d_new, era5_lat2d)\n",
    "\n",
    "    ### reproject CESM data to ERA-5 grid (CESM grid ~ 110 km spacing, so change radius of influence to be larger, about 100 km)\n",
    "    re_cesm_delta_var = pyresample.kd_tree.resample_nearest(orig_def, delta_var.values, targ_def, radius_of_influence=110000, fill_value=np.nan)\n",
    "\n",
    "    # add delta to ERA5 data\n",
    "    era5_times = len(era5_var_days[era5_name[i]])\n",
    "    era5_var_ptb = era5_var_days[era5_name[i]]+([np.nan_to_num(re_cesm_delta_var, nan=0.0)]*era5_times) \n",
    "\n",
    "    # replace ERA5 data with perturbed LENS data\n",
    "    era5_var_change = replace_era5_var(era5_var_days, era5_name[i], era5_var_ptb)\n",
    "\n",
    "    # export modified ERA5\n",
    "    era5_var_change.to_netcdf(export_dir+'era5.sfc.'+era5_name[i]+'.'+'2006090100_2006093023.nc')\n",
    "\n",
    "    fmt_files(era5_name[i], param_ids[i], zaxis_file=[])"
   ]
  },
  {
   "cell_type": "markdown",
   "id": "62d2f68f-37c8-4357-a775-a0e2bb06c9c0",
   "metadata": {},
   "source": [
    "### repeat for soil temperature fields - this splits up TSOI field based on layers in ERA5 soil"
   ]
  },
  {
   "cell_type": "code",
   "execution_count": 37,
   "id": "e8e3d92e-2085-4c91-a6af-6a72241cd8a8",
   "metadata": {},
   "outputs": [],
   "source": [
    "var= 'TSOI'\n",
    "\n",
    "delta_var = xr.open_dataset('/glade/derecho/scratch/doughert/CESM/LENS2/LENS2-Sept_2070-2100_1991-2021_delta_'+var+'.nc')[var]\n",
    "cesm_lat = delta_var.lat\n",
    "cesm_lon = delta_var.lon\n",
    "\n",
    "delta_tsoi1 = delta_var.sel(levgrnd=slice(9.9999998e-03, 9.0000004e-02)) #0-9 cm (0-7 ERA5)\n",
    "delta_tsoi2 = delta_var.sel(levgrnd=slice(9.0000004e-02, 2.5999999e-01)) #9-26 (7-28 ERA5)\n",
    "delta_tsoi3 = delta_var.sel(levgrnd=slice(2.5999999e-01, 1.0599999e+00)) #26-100 (28-100 ERA5)\n",
    "delta_tsoi4 = delta_var.sel(levgrnd=slice( 1.0599999e+00, 2.5000000e+00)) #100-255 (100-255 ERA5)\n",
    "delta_tsoi1_mean = delta_tsoi1.mean(dim='levgrnd')\n",
    "delta_tsoi2_mean = delta_tsoi2.mean(dim='levgrnd')\n",
    "delta_tsoi3_mean = delta_tsoi3.mean(dim='levgrnd')\n",
    "delta_tsoi4_mean = delta_tsoi4.mean(dim='levgrnd')"
   ]
  },
  {
   "cell_type": "code",
   "execution_count": 38,
   "id": "0a3d8337-233f-46c8-b86e-408d5d3d3dc9",
   "metadata": {},
   "outputs": [],
   "source": [
    "var_soil = [delta_tsoi1_mean, delta_tsoi2_mean, delta_tsoi3_mean, delta_tsoi4_mean]"
   ]
  },
  {
   "cell_type": "code",
   "execution_count": 39,
   "id": "39d228be-59ea-4453-93f4-e77b72477d98",
   "metadata": {},
   "outputs": [],
   "source": [
    "var_era = [ '128_139_stl1.ll025sc', '128_170_stl2.ll025sc', '128_183_stl3.ll025sc', '128_236_stl4.ll025sc',]\n",
    "era5_name = ['STL1', 'STL2', 'STL3', 'STL4',]\n",
    "param_ids = [\"139.128\", \"170.128\", \"183.128\", \"236.128\",]\n",
    "zaxis_file = ['soil_axis1', 'soil_axis2', 'soil_axis3', 'soil_axis4']"
   ]
  },
  {
   "cell_type": "code",
   "execution_count": 40,
   "id": "d20250ff-032f-4f11-ab86-63ceaa9bd2db",
   "metadata": {},
   "outputs": [
    {
     "name": "stdout",
     "output_type": "stream",
     "text": [
      "/glade/derecho/scratch/doughert/ERA5_perturb/200609/2d/test/era5.sfc.STL1.2006090100_2006093023nan.nc\n",
      "/glade/derecho/scratch/doughert/ERA5_perturb/200609/2d/test/era5.sfc.STL1.2006090100_2006093023miss.nc\n",
      "/glade/derecho/scratch/doughert/ERA5_perturb/200609/2d/test/era5.sfc.STL1.2006090100_2006093023var1.grb\n",
      "/glade/derecho/scratch/doughert/ERA5_perturb/200609/2d/test/era5.sfc.STL1.2006090100_2006093023pid.grb\n",
      "/glade/derecho/scratch/doughert/ERA5_perturb/200609/2d/test/era5.sfc.STL1.2006090100_2006093023zaxis1.grb\n"
     ]
    }
   ],
   "source": [
    "import pyresample\n",
    "\n",
    "for i in range(len(var_soil[0:1])):\n",
    "    \n",
    "    # open era5 data for same variable\n",
    "    era5_var_days = xr.open_dataset(era5_sfc+yr_mo+'/e5.oper.an.sfc.'+var_era[i]+'.'+'2006090100_2006093023.nc')\n",
    "    era5_lat = era5_var_days.latitude\n",
    "    era5_lon = era5_var_days.longitude\n",
    "    era5_lon2d, era5_lat2d  = np.meshgrid(era5_lon.values, era5_lat.values)\n",
    "    \n",
    "    # horizontally reproject data\n",
    "    cesm_lon2d, cesm_lat2d = np.meshgrid(cesm_lon.values, cesm_lat.values)\n",
    "    # change CESM lons to be from -180 to 180 instead of 0 to 360\n",
    "    cesm_lon2d_new = pyresample.utils.check_and_wrap(cesm_lon2d, cesm_lat2d)[0]\n",
    "    # create presample object of the CESM data\n",
    "    orig_def = pyresample.geometry.SwathDefinition(cesm_lon2d_new, cesm_lat2d)\n",
    "    # change ERA-5 lons to be from -180 to 180 instead of 0 to 360\n",
    "    era5_lon2d_new = pyresample.utils.check_and_wrap(era5_lon2d, era5_lat2d)[0]\n",
    "    # presample object of ERA-5 data\n",
    "    targ_def = pyresample.geometry.SwathDefinition(era5_lon2d_new, era5_lat2d)\n",
    "\n",
    "    ### reproject CESM data to ERA-5 grid (CESM grid ~ 110 km spacing, so change radius of influence to be larger, about 100 km)\n",
    "    re_cesm_delta_var = pyresample.kd_tree.resample_nearest(orig_def, var_soil[i].values, targ_def, radius_of_influence=110000, fill_value=np.nan)\n",
    "\n",
    "    # add delta to ERA5 data\n",
    "    era5_times = len(era5_var_days[era5_name[i]])\n",
    "    era5_var_ptb = era5_var_days[era5_name[i]]+([np.nan_to_num(re_cesm_delta_var, nan=0.0)]*era5_times) \n",
    "\n",
    "    # replace ERA5 data with perturbed LENS data\n",
    "    era5_var_change = replace_era5_var(era5_var_days, era5_name[i], era5_var_ptb)\n",
    "\n",
    "    # export modified array\n",
    "    era5_var_change.to_netcdf(export_dir+'era5.sfc.'+era5_name[i]+'.'+'2006090100_2006093023.nc')\n",
    "\n",
    "    fmt_files(era5_name[i], param_ids[i], zaxis_file[i])"
   ]
  },
  {
   "cell_type": "code",
   "execution_count": null,
   "id": "c632f16d-d208-47d1-a249-80bb9681960c",
   "metadata": {},
   "outputs": [],
   "source": []
  }
 ],
 "metadata": {
  "kernelspec": {
   "display_name": "Python [conda env:miniconda3-pangeo3]",
   "language": "python",
   "name": "conda-env-miniconda3-pangeo3-py"
  },
  "language_info": {
   "codemirror_mode": {
    "name": "ipython",
    "version": 3
   },
   "file_extension": ".py",
   "mimetype": "text/x-python",
   "name": "python",
   "nbconvert_exporter": "python",
   "pygments_lexer": "ipython3",
   "version": "3.9.2"
  }
 },
 "nbformat": 4,
 "nbformat_minor": 5
}
